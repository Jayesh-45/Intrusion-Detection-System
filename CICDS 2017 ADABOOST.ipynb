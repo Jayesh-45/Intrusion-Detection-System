{
 "cells": [
  {
   "cell_type": "code",
   "execution_count": 1,
   "id": "ea46a84a-e93c-4557-acb6-57468631763e",
   "metadata": {},
   "outputs": [],
   "source": [
    "import numpy as np \n",
    "import os\n",
    "import pandas as pd \n",
    "import time\n",
    "import matplotlib.pyplot as plt\n",
    "from scipy import stats\n",
    "import seaborn as sns\n",
    "from imblearn.under_sampling import RandomUnderSampler\n",
    "from sklearn.preprocessing import StandardScaler, LabelEncoder\n",
    "from sklearn.impute import SimpleImputer\n",
    "from sklearn import tree\n",
    "from sklearn.model_selection import cross_val_score,train_test_split\n",
    "from sklearn import metrics\n",
    "from sklearn.feature_selection import chi2\n",
    "from collections import Counter\n",
    "from sklearn.metrics import classification_report, confusion_matrix, ConfusionMatrixDisplay\n",
    "from sklearn.tree import DecisionTreeClassifier\n",
    "from sklearn.ensemble import AdaBoostClassifier\n",
    "from sklearn.model_selection import GridSearchCV\n",
    "from sklearn.metrics import accuracy_score, classification_report\n",
    "import time"
   ]
  },
  {
   "cell_type": "code",
   "execution_count": 2,
   "id": "21c274cd-1428-4714-8f88-021e27cf4a46",
   "metadata": {},
   "outputs": [
    {
     "name": "stdout",
     "output_type": "stream",
     "text": [
      "/home/pranav/Desktop/ML/Project/archive/MachineLearningCSV/MachineLearningCVE/Tuesday-WorkingHours.pcap_ISCX.csv\n",
      "/home/pranav/Desktop/ML/Project/archive/MachineLearningCSV/MachineLearningCVE/Friday-WorkingHours-Afternoon-DDos.pcap_ISCX.csv\n",
      "/home/pranav/Desktop/ML/Project/archive/MachineLearningCSV/MachineLearningCVE/Monday-WorkingHours.pcap_ISCX.csv\n",
      "/home/pranav/Desktop/ML/Project/archive/MachineLearningCSV/MachineLearningCVE/Friday-WorkingHours-Afternoon-PortScan.pcap_ISCX.csv\n",
      "/home/pranav/Desktop/ML/Project/archive/MachineLearningCSV/MachineLearningCVE/Thursday-WorkingHours-Afternoon-Infilteration.pcap_ISCX.csv\n",
      "/home/pranav/Desktop/ML/Project/archive/MachineLearningCSV/MachineLearningCVE/Thursday-WorkingHours-Morning-WebAttacks.pcap_ISCX.csv\n",
      "/home/pranav/Desktop/ML/Project/archive/MachineLearningCSV/MachineLearningCVE/Wednesday-workingHours.pcap_ISCX.csv\n",
      "/home/pranav/Desktop/ML/Project/archive/MachineLearningCSV/MachineLearningCVE/Friday-WorkingHours-Morning.pcap_ISCX.csv\n"
     ]
    }
   ],
   "source": [
    "import os\n",
    "for dirname, _, filenames in os.walk('/home/pranav/Desktop/ML/Project/archive/MachineLearningCSV/MachineLearningCVE'):\n",
    "    for filename in filenames:\n",
    "        print(os.path.join(dirname, filename))"
   ]
  },
  {
   "cell_type": "code",
   "execution_count": 3,
   "id": "8604d292-26e3-4631-840a-71c313912d46",
   "metadata": {},
   "outputs": [],
   "source": [
    "pd.set_option('display.max_columns', None)\n",
    "pd.set_option('display.max_rows', None)\n",
    "low_memory=False\n",
    "df1 = pd.read_csv(\"/home/pranav/Desktop/ML/Project/MachineLearningCSV/MachineLearningCVE/Friday-WorkingHours-Afternoon-DDos.pcap_ISCX.csv\")\n",
    "df2=pd.read_csv(\"/home/pranav/Desktop/ML/Project/MachineLearningCSV/MachineLearningCVE/Friday-WorkingHours-Afternoon-PortScan.pcap_ISCX.csv\")\n",
    "df3=pd.read_csv(\"/home/pranav/Desktop/ML/Project/MachineLearningCSV/MachineLearningCVE/Friday-WorkingHours-Morning.pcap_ISCX.csv\")\n",
    "df4=pd.read_csv(\"/home/pranav/Desktop/ML/Project/MachineLearningCSV/MachineLearningCVE/Monday-WorkingHours.pcap_ISCX.csv\")\n",
    "df5=pd.read_csv(\"/home/pranav/Desktop/ML/Project/MachineLearningCSV/MachineLearningCVE/Thursday-WorkingHours-Afternoon-Infilteration.pcap_ISCX.csv\")\n",
    "df6=pd.read_csv(\"/home/pranav/Desktop/ML/Project/MachineLearningCSV/MachineLearningCVE/Thursday-WorkingHours-Morning-WebAttacks.pcap_ISCX.csv\")\n",
    "df7=pd.read_csv(\"/home/pranav/Desktop/ML/Project/MachineLearningCSV/MachineLearningCVE/Tuesday-WorkingHours.pcap_ISCX.csv\")\n",
    "df8=pd.read_csv(\"/home/pranav/Desktop/ML/Project/MachineLearningCSV/MachineLearningCVE/Wednesday-workingHours.pcap_ISCX.csv\")"
   ]
  },
  {
   "cell_type": "code",
   "execution_count": 4,
   "id": "d5ef5ab2-0a21-4d29-a163-ddf710980c90",
   "metadata": {},
   "outputs": [],
   "source": [
    "df=pd.concat([df1,df2,df3,df4,df5,df6,df7,df8])"
   ]
  },
  {
   "cell_type": "code",
   "execution_count": 5,
   "id": "30ee9aa4-ecda-4aa4-92de-675f38e6be55",
   "metadata": {},
   "outputs": [
    {
     "data": {
      "text/plain": [
       " Label\n",
       "BENIGN                        2273097\n",
       "DoS Hulk                       231073\n",
       "PortScan                       158930\n",
       "DDoS                           128027\n",
       "DoS GoldenEye                   10293\n",
       "FTP-Patator                      7938\n",
       "SSH-Patator                      5897\n",
       "DoS slowloris                    5796\n",
       "DoS Slowhttptest                 5499\n",
       "Bot                              1966\n",
       "Web Attack � Brute Force         1507\n",
       "Web Attack � XSS                  652\n",
       "Infiltration                       36\n",
       "Web Attack � Sql Injection         21\n",
       "Heartbleed                         11\n",
       "Name: count, dtype: int64"
      ]
     },
     "execution_count": 5,
     "metadata": {},
     "output_type": "execute_result"
    }
   ],
   "source": [
    "df[' Label'].value_counts()"
   ]
  },
  {
   "cell_type": "code",
   "execution_count": 6,
   "id": "5e9a5dfd-c470-4ab3-a365-72308010bff0",
   "metadata": {},
   "outputs": [
    {
     "data": {
      "text/plain": [
       "(2830743, 79)"
      ]
     },
     "execution_count": 6,
     "metadata": {},
     "output_type": "execute_result"
    }
   ],
   "source": [
    "df.shape"
   ]
  },
  {
   "cell_type": "code",
   "execution_count": 7,
   "id": "e698e34a-f52a-46de-a6df-143a81b1365f",
   "metadata": {},
   "outputs": [],
   "source": [
    "# Remove duplicate rows\n",
    "df = df.drop_duplicates(keep=\"first\")\n",
    "\n",
    "# Remove rows with NaN, positive infinity, or negative infinity\n",
    "df = df[~df.isin([np.nan, np.inf, -np.inf]).any(axis=1)]"
   ]
  },
  {
   "cell_type": "code",
   "execution_count": 8,
   "id": "c8f94863-0187-43ac-be1f-dca1ba9d7788",
   "metadata": {},
   "outputs": [
    {
     "data": {
      "text/plain": [
       "(2520798, 79)"
      ]
     },
     "execution_count": 8,
     "metadata": {},
     "output_type": "execute_result"
    }
   ],
   "source": [
    "df.shape"
   ]
  },
  {
   "cell_type": "code",
   "execution_count": 9,
   "id": "2b40c689-13f4-4774-aa19-99344e53e15e",
   "metadata": {},
   "outputs": [],
   "source": [
    "# Convert int64 into int32 and float64 into float32\n",
    "integer = []\n",
    "f = []\n",
    "for i in df.columns[:-1]:\n",
    "    if df[i].dtype == \"int64\":\n",
    "        integer.append(i)\n",
    "    elif df[i].dtype == \"float64\":\n",
    "        f.append(i)\n",
    "\n",
    "df[integer] = df[integer].astype(\"int32\")\n",
    "df[f] = df[f].astype(\"float32\")"
   ]
  },
  {
   "cell_type": "code",
   "execution_count": 10,
   "id": "8becec0e-4829-4201-8851-a50e267983d0",
   "metadata": {},
   "outputs": [],
   "source": [
    "# Exclude non-numeric columns\n",
    "numeric_df = df.select_dtypes(include=['int32', 'float32'])\n",
    "\n",
    "# Calculate the correlation matrix for numeric columns\n",
    "corr_matrix = numeric_df.corr()\n",
    "\n",
    "# Define the correlation threshold\n",
    "threshold = 0.85\n",
    "\n",
    "# Find highly correlated features\n",
    "corr_features = set()\n",
    "for i in range(len(corr_matrix.columns)):\n",
    "    for j in range(i):\n",
    "        if abs(corr_matrix.iloc[i, j]) > threshold:\n",
    "            colname = corr_matrix.columns[i]\n",
    "            corr_features.add(colname)\n",
    "\n",
    "# Drop highly correlated features from the original DataFrame\n",
    "df.drop(corr_features, axis=1, inplace=True)\n"
   ]
  },
  {
   "cell_type": "code",
   "execution_count": 11,
   "id": "349c8c16-0ebe-43d8-bcbe-832c9e7c35a0",
   "metadata": {},
   "outputs": [
    {
     "data": {
      "text/plain": [
       "(2520798, 44)"
      ]
     },
     "execution_count": 11,
     "metadata": {},
     "output_type": "execute_result"
    }
   ],
   "source": [
    "df.shape"
   ]
  },
  {
   "cell_type": "code",
   "execution_count": 12,
   "id": "bf5a001c-8cf9-4357-bf93-4853d44e80ea",
   "metadata": {},
   "outputs": [
    {
     "data": {
      "text/plain": [
       " Label\n",
       "BENIGN                        2095057\n",
       "DoS Hulk                       172846\n",
       "DDoS                           128014\n",
       "PortScan                        90694\n",
       "DoS GoldenEye                   10286\n",
       "FTP-Patator                      5931\n",
       "DoS slowloris                    5385\n",
       "DoS Slowhttptest                 5228\n",
       "SSH-Patator                      3219\n",
       "Bot                              1948\n",
       "Web Attack � Brute Force         1470\n",
       "Web Attack � XSS                  652\n",
       "Infiltration                       36\n",
       "Web Attack � Sql Injection         21\n",
       "Heartbleed                         11\n",
       "Name: count, dtype: int64"
      ]
     },
     "execution_count": 12,
     "metadata": {},
     "output_type": "execute_result"
    }
   ],
   "source": [
    "df[' Label'].value_counts()"
   ]
  },
  {
   "cell_type": "code",
   "execution_count": 13,
   "id": "9ff2e62a-32f3-49ab-900f-aba7b53ed1a1",
   "metadata": {},
   "outputs": [
    {
     "data": {
      "text/plain": [
       " Label\n",
       "BENIGN           2095057\n",
       "DoS Hulk          172846\n",
       "DDoS              128014\n",
       "PortScan           90694\n",
       "DoS GoldenEye      10286\n",
       "Name: count, dtype: int64"
      ]
     },
     "execution_count": 13,
     "metadata": {},
     "output_type": "execute_result"
    }
   ],
   "source": [
    "#Create a new dataframe with the attacks that have more than 10000 instances in the original dataframe\n",
    "df1=df.groupby(' Label').filter(lambda x:len(x)>10000)\n",
    "df1[' Label'].value_counts()\n"
   ]
  },
  {
   "cell_type": "code",
   "execution_count": 14,
   "id": "d34b3b1c-0e9e-43a8-8582-74fcf70a2c55",
   "metadata": {},
   "outputs": [
    {
     "data": {
      "text/plain": [
       " Label\n",
       "FTP-Patator                   5931\n",
       "DoS slowloris                 5385\n",
       "DoS Slowhttptest              5228\n",
       "SSH-Patator                   3219\n",
       "Bot                           1948\n",
       "Web Attack � Brute Force      1470\n",
       "Web Attack � XSS               652\n",
       "Infiltration                    36\n",
       "Web Attack � Sql Injection      21\n",
       "Heartbleed                      11\n",
       "Name: count, dtype: int64"
      ]
     },
     "execution_count": 14,
     "metadata": {},
     "output_type": "execute_result"
    }
   ],
   "source": [
    "#Create a new dataframe with the attacks that have less than 10000 instances in the original dataframe\n",
    "df2=df.groupby(' Label').filter(lambda x:len(x)<10000)\n",
    "df2[' Label'].value_counts()"
   ]
  },
  {
   "cell_type": "code",
   "execution_count": 15,
   "id": "23087d4b-0da5-4f64-b208-788f4982fe43",
   "metadata": {},
   "outputs": [],
   "source": [
    "x = df1.drop([' Label'],axis=1)\n",
    "y = df1[' Label']"
   ]
  },
  {
   "cell_type": "code",
   "execution_count": 16,
   "id": "a953b61e-4af5-464d-8ead-5479f77a89c3",
   "metadata": {},
   "outputs": [
    {
     "name": "stdout",
     "output_type": "stream",
     "text": [
      "[('BENIGN', 2095057), ('DDoS', 128014), ('DoS GoldenEye', 10286), ('DoS Hulk', 172846), ('PortScan', 90694)]\n"
     ]
    }
   ],
   "source": [
    "unique, countsa = np.unique(y, return_counts=True)\n",
    "print(list(zip(unique,countsa)))"
   ]
  },
  {
   "cell_type": "code",
   "execution_count": 17,
   "id": "bbb30f65-ba0a-4f31-bd51-bd01141565d8",
   "metadata": {},
   "outputs": [],
   "source": [
    "#Down sample the first dataframe (attacks with more than 10000) so that each calss has around 10000 instances. A random undersampling is oerformed for the purpose.\n",
    "rus = RandomUnderSampler(random_state=0)\n",
    "rus.fit(x, y)\n",
    "Xn, yn = rus.fit_resample(x, y)"
   ]
  },
  {
   "cell_type": "code",
   "execution_count": 18,
   "id": "089e312a-01b1-4607-a566-90bd40ff9a64",
   "metadata": {},
   "outputs": [
    {
     "name": "stdout",
     "output_type": "stream",
     "text": [
      "[('BENIGN', 10286), ('DDoS', 10286), ('DoS GoldenEye', 10286), ('DoS Hulk', 10286), ('PortScan', 10286)]\n"
     ]
    }
   ],
   "source": [
    "unique, countsb = np.unique(yn, return_counts=True)\n",
    "print(list(zip(unique,countsb)))"
   ]
  },
  {
   "cell_type": "code",
   "execution_count": 19,
   "id": "8378c389-198d-4400-9af0-8ccabf58bd34",
   "metadata": {},
   "outputs": [
    {
     "data": {
      "text/plain": [
       " Label\n",
       "BENIGN           10286\n",
       "DDoS             10286\n",
       "DoS GoldenEye    10286\n",
       "DoS Hulk         10286\n",
       "PortScan         10286\n",
       "Name: count, dtype: int64"
      ]
     },
     "execution_count": 19,
     "metadata": {},
     "output_type": "execute_result"
    }
   ],
   "source": [
    "df1=pd.concat([Xn,yn],axis=1)\n",
    "df1[' Label'].value_counts()"
   ]
  },
  {
   "cell_type": "code",
   "execution_count": 20,
   "id": "6530f014-5aca-49ae-867f-b570076abdb4",
   "metadata": {},
   "outputs": [
    {
     "data": {
      "text/plain": [
       " Label\n",
       "BENIGN                        10286\n",
       "DDoS                          10286\n",
       "DoS GoldenEye                 10286\n",
       "DoS Hulk                      10286\n",
       "PortScan                      10286\n",
       "FTP-Patator                    5931\n",
       "DoS slowloris                  5385\n",
       "DoS Slowhttptest               5228\n",
       "SSH-Patator                    3219\n",
       "Bot                            1948\n",
       "Web Attack � Brute Force       1470\n",
       "Web Attack � XSS                652\n",
       "Infiltration                     36\n",
       "Web Attack � Sql Injection       21\n",
       "Heartbleed                       11\n",
       "Name: count, dtype: int64"
      ]
     },
     "execution_count": 20,
     "metadata": {},
     "output_type": "execute_result"
    }
   ],
   "source": [
    "df=pd.concat([df1,df2])\n",
    "df[' Label'].value_counts()"
   ]
  },
  {
   "cell_type": "code",
   "execution_count": 21,
   "id": "0fa93b6d-9d0b-44fc-87df-c6d18e152f6f",
   "metadata": {},
   "outputs": [],
   "source": [
    "x = df.drop([' Label'],axis=1)\n",
    "y = df[' Label']"
   ]
  },
  {
   "cell_type": "code",
   "execution_count": 22,
   "id": "86760c4a-45bb-4378-9fc0-180553fafeda",
   "metadata": {},
   "outputs": [],
   "source": [
    "#Change the categorical labels into numerical\n",
    "from sklearn.preprocessing import OneHotEncoder, LabelEncoder\n",
    "le = LabelEncoder()\n",
    "y=le.fit_transform(df[' Label'].values)"
   ]
  },
  {
   "cell_type": "code",
   "execution_count": 23,
   "id": "e85fd543-8df6-497e-b0b2-c9880551a561",
   "metadata": {},
   "outputs": [
    {
     "name": "stdout",
     "output_type": "stream",
     "text": [
      "[(0, 10286), (1, 1948), (2, 10286), (3, 10286), (4, 10286), (5, 5228), (6, 5385), (7, 5931), (8, 11), (9, 36), (10, 10286), (11, 3219), (12, 1470), (13, 21), (14, 652)]\n"
     ]
    }
   ],
   "source": [
    "unique, counts1 = np.unique(y, return_counts=True)\n",
    "print(list(zip(unique,counts1)))"
   ]
  },
  {
   "cell_type": "code",
   "execution_count": 24,
   "id": "3bbe0878-674d-4e8d-ba88-283a5c587d7f",
   "metadata": {},
   "outputs": [],
   "source": [
    "#Oversampling with SMOTE to balance the dataset\n",
    "from imblearn.over_sampling import SMOTE\n",
    "oversample = SMOTE( random_state=42)\n",
    "Xn,Yn = oversample.fit_resample(x, y)"
   ]
  },
  {
   "cell_type": "code",
   "execution_count": 25,
   "id": "6bff5485-a070-43d9-9407-70b3ba264aab",
   "metadata": {},
   "outputs": [
    {
     "name": "stdout",
     "output_type": "stream",
     "text": [
      "[(0, 10286), (1, 10286), (2, 10286), (3, 10286), (4, 10286), (5, 10286), (6, 10286), (7, 10286), (8, 10286), (9, 10286), (10, 10286), (11, 10286), (12, 10286), (13, 10286), (14, 10286)]\n"
     ]
    }
   ],
   "source": [
    "unique, counts = np.unique(Yn, return_counts=True)\n",
    "print(list(zip(unique,counts)))"
   ]
  },
  {
   "cell_type": "code",
   "execution_count": 26,
   "id": "0ca5bbf5-784e-4c24-97ed-aa0f5dc79c8e",
   "metadata": {},
   "outputs": [],
   "source": [
    "X_train, X_test, Y_train, Y_test = train_test_split(Xn,Yn,test_size=0.30,random_state=0)"
   ]
  },
  {
   "cell_type": "code",
   "execution_count": 27,
   "id": "5df9bd9c-130d-4cd3-b73f-53d8fa0efe9d",
   "metadata": {},
   "outputs": [],
   "source": [
    "# Create an instance of SimpleImputer with 'mean' strategy to replace NaN values\n",
    "imputer = SimpleImputer(strategy='mean')\n",
    "\n",
    "# Fit the imputer to X_train and transform X_train and X_test with it\n",
    "X_train = imputer.fit_transform(X_train)\n",
    "X_test = imputer.transform(X_test)"
   ]
  },
  {
   "cell_type": "code",
   "execution_count": 30,
   "id": "e6c5fa00-1669-4727-aa59-25a5ab5f67f9",
   "metadata": {},
   "outputs": [
    {
     "name": "stdout",
     "output_type": "stream",
     "text": [
      "Cross Validation Accuracy Score: [0.97847282 0.97955612 0.97930613]\n",
      "Accuracy Score: 0.9816363125715644\n",
      "F1 Score (Weighted): 0.9816462225132941\n",
      "Recall Score (Weighted): 0.9816363125715644\n",
      "Precision Score (Weighted): 0.9816619421067284\n",
      "Classification Report:\n",
      "              precision    recall  f1-score   support\n",
      "\n",
      "           0       1.00      0.99      0.99      3075\n",
      "           1       1.00      1.00      1.00      3114\n",
      "           2       1.00      1.00      1.00      3044\n",
      "           3       1.00      1.00      1.00      3025\n",
      "           4       1.00      1.00      1.00      3111\n",
      "           5       1.00      0.99      1.00      3076\n",
      "           6       1.00      1.00      1.00      3080\n",
      "           7       1.00      1.00      1.00      3043\n",
      "           8       1.00      1.00      1.00      3092\n",
      "           9       1.00      1.00      1.00      3135\n",
      "          10       1.00      1.00      1.00      3081\n",
      "          11       1.00      1.00      1.00      3151\n",
      "          12       0.88      0.87      0.87      3110\n",
      "          13       1.00      1.00      1.00      3056\n",
      "          14       0.87      0.88      0.87      3094\n",
      "\n",
      "    accuracy                           0.98     46287\n",
      "   macro avg       0.98      0.98      0.98     46287\n",
      "weighted avg       0.98      0.98      0.98     46287\n",
      "\n",
      "F1 Macro Score: 0.9817322649908361\n",
      "F1 Micro Score: 0.9816363125715644\n"
     ]
    }
   ],
   "source": [
    "from sklearn.tree import DecisionTreeClassifier\n",
    "from sklearn.ensemble import AdaBoostClassifier\n",
    "from sklearn.metrics import accuracy_score, classification_report, f1_score, recall_score, precision_score\n",
    "from sklearn.model_selection import cross_val_score\n",
    "from sklearn.model_selection import train_test_split\n",
    "\n",
    "# Assuming you have your data in X and Y, and you split it into training and testing sets\n",
    "# X_train, X_test, Y_train, Y_test = train_test_split(X, Y, test_size=0.2, random_state=42)\n",
    "\n",
    "# Create the AdaBoost classifier with DecisionTree base estimator\n",
    "base_estimator = DecisionTreeClassifier(max_depth=20)\n",
    "adaboost = AdaBoostClassifier(estimator=base_estimator, random_state=42)\n",
    "\n",
    "# Train the AdaBoost classifier\n",
    "adaboost.fit(X_train, Y_train)\n",
    "\n",
    "# Use the trained model for predictions\n",
    "adapreds = adaboost.predict(X_test)\n",
    "\n",
    "# Cross-validation accuracy score\n",
    "cross_val_acc_scores = cross_val_score(adaboost, X_train, Y_train, cv=3, scoring='accuracy')\n",
    "print(\"Cross Validation Accuracy Score:\", cross_val_acc_scores)\n",
    "\n",
    "# Accuracy score\n",
    "accuracy = accuracy_score(Y_test, adapreds)\n",
    "print(\"Accuracy Score:\", accuracy)\n",
    "\n",
    "# F1 score (weighted for multiclass)\n",
    "f1_weighted = f1_score(Y_test, adapreds, average='weighted')\n",
    "print(\"F1 Score (Weighted):\", f1_weighted)\n",
    "\n",
    "# Recall score (weighted for multiclass)\n",
    "recall_weighted = recall_score(Y_test, adapreds, average='weighted')\n",
    "print(\"Recall Score (Weighted):\", recall_weighted)\n",
    "\n",
    "# Precision score (weighted for multiclass)\n",
    "precision_weighted = precision_score(Y_test, adapreds, average='weighted')\n",
    "print(\"Precision Score (Weighted):\", precision_weighted)\n",
    "\n",
    "# Classification report\n",
    "print(\"Classification Report:\")\n",
    "print(classification_report(Y_test, adapreds))\n",
    "\n",
    "# F1 Macro Score\n",
    "f1_macro = f1_score(Y_test, adapreds, average='macro')\n",
    "print(\"F1 Macro Score:\", f1_macro)\n",
    "\n",
    "# F1 Micro Score\n",
    "f1_micro = f1_score(Y_test, adapreds, average='micro')\n",
    "print(\"F1 Micro Score:\", f1_micro)\n"
   ]
  },
  {
   "cell_type": "code",
   "execution_count": null,
   "id": "4cf11ca8-e74c-4b2f-969c-6a25507c9785",
   "metadata": {},
   "outputs": [],
   "source": []
  }
 ],
 "metadata": {
  "kernelspec": {
   "display_name": "Python 3 (ipykernel)",
   "language": "python",
   "name": "python3"
  },
  "language_info": {
   "codemirror_mode": {
    "name": "ipython",
    "version": 3
   },
   "file_extension": ".py",
   "mimetype": "text/x-python",
   "name": "python",
   "nbconvert_exporter": "python",
   "pygments_lexer": "ipython3",
   "version": "3.11.4"
  }
 },
 "nbformat": 4,
 "nbformat_minor": 5
}
