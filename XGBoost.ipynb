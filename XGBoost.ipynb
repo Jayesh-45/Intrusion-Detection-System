{
 "cells": [
  {
   "cell_type": "code",
   "execution_count": 1,
   "id": "7659063d-2a2b-4268-a7f6-611ece4a2e2d",
   "metadata": {},
   "outputs": [],
   "source": [
    "import numpy as np\n",
    "import pandas as pd\n",
    "import warnings\n",
    "import matplotlib.pyplot as plt\n",
    "import seaborn as sns\n",
    "import tensorflow as tf\n",
    "from tensorflow.keras import regularizers\n",
    "import xgboost as xgb\n",
    "from sklearn.decomposition import PCA\n",
    "from sklearn import tree\n",
    "from sklearn.naive_bayes import GaussianNB\n",
    "from sklearn.linear_model import LogisticRegression\n",
    "from sklearn.neighbors import KNeighborsClassifier\n",
    "from sklearn.tree import DecisionTreeClassifier\n",
    "from sklearn.preprocessing import RobustScaler\n",
    "from sklearn.ensemble import RandomForestClassifier, RandomForestRegressor\n",
    "from sklearn.model_selection import train_test_split\n",
    "from sklearn import svm\n",
    "from sklearn import metrics\n",
    "pd.set_option('display.max_columns',None)\n",
    "warnings.filterwarnings('ignore')\n",
    "%matplotlib inline "
   ]
  },
  {
   "cell_type": "code",
   "execution_count": 6,
   "id": "0f14f3e5-19fb-4d12-bf43-e842dec03c0e",
   "metadata": {},
   "outputs": [],
   "source": [
    "import numpy as np\n",
    "\n",
    "# Specify the file path for xbalanced\n",
    "xbalanced_file_path = '/Users/jayeshbangar/Desktop/IDS_project/x_balanced.npy'\n",
    "\n",
    "# Load the NumPy array from the file\n",
    "xbalanced = np.load(xbalanced_file_path)\n",
    "ybalanced_file_path = '/Users/jayeshbangar/Desktop/IDS_project/y_balanced.npy'\n",
    "ybalanced = np.load(ybalanced_file_path, allow_pickle=True)\n"
   ]
  },
  {
   "cell_type": "code",
   "execution_count": 7,
   "id": "8723681d-d1d3-4a92-b122-7cb20d2559d9",
   "metadata": {},
   "outputs": [],
   "source": [
    "from xgboost import XGBClassifier\n",
    "from sklearn.ensemble import AdaBoostClassifier\n",
    "import seaborn as sns\n",
    "import time\n",
    "from sklearn.metrics import classification_report,confusion_matrix, accuracy_score, roc_auc_score,roc_curve"
   ]
  },
  {
   "cell_type": "code",
   "execution_count": 8,
   "id": "e8af4a2a-b15c-43cf-ab58-5e472e28ac10",
   "metadata": {},
   "outputs": [
    {
     "name": "stdout",
     "output_type": "stream",
     "text": [
      "===========x_train=============\n",
      "[[2.20000000e+01 1.16719309e+07 2.10000000e+01 ... 0.00000000e+00\n",
      "  0.00000000e+00 0.00000000e+00]\n",
      " [8.00000000e+01 6.30864630e+07 7.00000000e+00 ... 1.22000000e+07\n",
      "  3.20000000e+07 8.01620100e+06]\n",
      " [8.00000000e+01 8.38734060e+07 6.00000000e+00 ... 0.00000000e+00\n",
      "  8.37000000e+07 8.37000000e+07]\n",
      " ...\n",
      " [8.00000000e+01 2.52095494e+06 3.00000000e+00 ... 0.00000000e+00\n",
      "  0.00000000e+00 0.00000000e+00]\n",
      " [5.30000000e+01 3.12770000e+04 2.00000000e+00 ... 0.00000000e+00\n",
      "  0.00000000e+00 0.00000000e+00]\n",
      " [8.08000000e+03 6.78620000e+04 4.00000000e+00 ... 0.00000000e+00\n",
      "  0.00000000e+00 0.00000000e+00]]\n",
      "(87200, 78)\n",
      "===========x_test=============\n",
      "[[4.44000000e+02 1.19299495e+08 2.80466712e+03 ... 0.00000000e+00\n",
      "  0.00000000e+00 0.00000000e+00]\n",
      " [4.15110000e+04 1.04000000e+02 1.00000000e+00 ... 0.00000000e+00\n",
      "  0.00000000e+00 0.00000000e+00]\n",
      " [2.10000000e+01 2.90000000e+02 2.00000000e+00 ... 0.00000000e+00\n",
      "  0.00000000e+00 0.00000000e+00]\n",
      " ...\n",
      " [8.00000000e+01 3.00358128e+06 3.00000000e+00 ... 0.00000000e+00\n",
      "  0.00000000e+00 0.00000000e+00]\n",
      " [8.00000000e+01 6.31527138e+07 7.00000000e+00 ... 1.23000000e+07\n",
      "  3.21000000e+07 8.01591944e+06]\n",
      " [2.20000000e+01 8.00000000e+01 1.00000000e+00 ... 0.00000000e+00\n",
      "  0.00000000e+00 0.00000000e+00]]\n",
      "(21800, 78)\n",
      "===========y_train=============\n",
      "['SSH-Patator' 'DoS Slowhttptest' 'DoS Hulk' ...\n",
      " 'Web Attack � Brute Force' 'BENIGN' 'Bot']\n",
      "(87200,)\n",
      "===========y_test=============\n",
      "['Heartbleed' 'PortScan' 'FTP-Patator' ... 'DoS slowloris'\n",
      " 'DoS Slowhttptest' 'SSH-Patator']\n",
      "(21800,)\n"
     ]
    }
   ],
   "source": [
    "# x_train, x_test, y_train, y_test = train_test_split(x_bal,y_bal,test_size=0.2,random_state=42)\n",
    "x_train, x_test, y_train, y_test = train_test_split(xbalanced,ybalanced,test_size=0.2,random_state=42)\n",
    "\n",
    "print('===========x_train=============')\n",
    "print(x_train)\n",
    "print(x_train.shape)\n",
    "print('===========x_test=============')\n",
    "print(x_test)\n",
    "print(x_test.shape)\n",
    "print('===========y_train=============')\n",
    "print(y_train)\n",
    "print(y_train.shape)\n",
    "print('===========y_test=============')\n",
    "print(y_test)\n",
    "print(y_test.shape)"
   ]
  },
  {
   "cell_type": "code",
   "execution_count": 9,
   "id": "3b62b54a-e46a-4ffa-93ae-d3b498217679",
   "metadata": {},
   "outputs": [
    {
     "name": "stdout",
     "output_type": "stream",
     "text": [
      "['BENIGN' 'Bot' 'DDoS' 'DoS GoldenEye' 'DoS Hulk' 'DoS Slowhttptest'\n",
      " 'DoS slowloris' 'FTP-Patator' 'Heartbleed' 'Infiltration' 'PortScan'\n",
      " 'SSH-Patator' 'Web Attack � Brute Force' 'Web Attack � Sql Injection'\n",
      " 'Web Attack � XSS']\n",
      "15\n",
      "-------------------\n",
      "[0, 1, 2, 3, 4, 5, 6, 7, 8, 9, 10, 11, 12, 13, 14]\n",
      "-------------------\n",
      "{'BENIGN': 0, 'Bot': 1, 'DDoS': 2, 'DoS GoldenEye': 3, 'DoS Hulk': 4, 'DoS Slowhttptest': 5, 'DoS slowloris': 6, 'FTP-Patator': 7, 'Heartbleed': 8, 'Infiltration': 9, 'PortScan': 10, 'SSH-Patator': 11, 'Web Attack � Brute Force': 12, 'Web Attack � Sql Injection': 13, 'Web Attack � XSS': 14}\n",
      "-------------------\n",
      "[ 8 10  7 ...  6  5 11]\n",
      "21800\n"
     ]
    }
   ],
   "source": [
    "labels=np.unique(y_test)\n",
    "print(labels)\n",
    "print(len(labels))\n",
    "print('-------------------')\n",
    "\n",
    "classes = []\n",
    "for i in range(0,len(labels)):\n",
    "    classes.append(i)\n",
    "print(classes)\n",
    "print('-------------------')\n",
    "\n",
    "map=dict(zip(labels,classes))\n",
    "print(map)\n",
    "print('-------------------')\n",
    "\n",
    "\n",
    "y_test_class=[]\n",
    "\n",
    "for i in range(0, len(y_test)):\n",
    "    y_test_class.append(map[y_test[i]])\n",
    "    \n",
    "y_test_class=np.asarray(y_test_class)\n",
    "\n",
    "print(y_test_class)\n",
    "print(len(y_test_class))"
   ]
  },
  {
   "cell_type": "code",
   "execution_count": 12,
   "id": "0308a8e1-7041-4b07-a83c-ddd2431a9bb7",
   "metadata": {},
   "outputs": [
    {
     "name": "stdout",
     "output_type": "stream",
     "text": [
      "['BENIGN' 'Bot' 'DDoS' 'DoS GoldenEye' 'DoS Hulk' 'DoS Slowhttptest'\n",
      " 'DoS slowloris' 'FTP-Patator' 'Heartbleed' 'Infiltration' 'PortScan'\n",
      " 'SSH-Patator' 'Web Attack � Brute Force' 'Web Attack � Sql Injection'\n",
      " 'Web Attack � XSS']\n",
      "15\n",
      "-------------------\n",
      "[0, 1, 2, 3, 4, 5, 6, 7, 8, 9, 10, 11, 12, 13, 14]\n",
      "-------------------\n",
      "{'BENIGN': 0, 'Bot': 1, 'DDoS': 2, 'DoS GoldenEye': 3, 'DoS Hulk': 4, 'DoS Slowhttptest': 5, 'DoS slowloris': 6, 'FTP-Patator': 7, 'Heartbleed': 8, 'Infiltration': 9, 'PortScan': 10, 'SSH-Patator': 11, 'Web Attack � Brute Force': 12, 'Web Attack � Sql Injection': 13, 'Web Attack � XSS': 14}\n",
      "-------------------\n",
      "[11  5  4 ... 12  0  1]\n",
      "87200\n"
     ]
    }
   ],
   "source": [
    "\n",
    "labels=np.unique(y_train)\n",
    "print(labels)\n",
    "print(len(labels))\n",
    "print('-------------------')\n",
    "\n",
    "classes = []\n",
    "for i in range(0,len(labels)):\n",
    "    classes.append(i)\n",
    "print(classes)\n",
    "print('-------------------')\n",
    "\n",
    "map=dict(zip(labels,classes))\n",
    "print(map)\n",
    "print('-------------------')\n",
    "\n",
    "\n",
    "y_train_class=[]\n",
    "\n",
    "for i in range(0, len(y_train)):\n",
    "    y_train_class.append(map[y_train[i]])\n",
    "    \n",
    "y_train_class=np.asarray(y_train_class)\n",
    "\n",
    "print(y_train_class)\n",
    "print(len(y_train_class))"
   ]
  },
  {
   "cell_type": "code",
   "execution_count": 13,
   "id": "3b90226a-5ebc-4de7-9101-78a2bce6c3d7",
   "metadata": {},
   "outputs": [
    {
     "name": "stdout",
     "output_type": "stream",
     "text": [
      "[[0. 0. 0. ... 0. 0. 0.]\n",
      " [0. 0. 0. ... 0. 0. 0.]\n",
      " [0. 0. 0. ... 0. 0. 0.]\n",
      " ...\n",
      " [0. 0. 0. ... 1. 0. 0.]\n",
      " [1. 0. 0. ... 0. 0. 0.]\n",
      " [0. 1. 0. ... 0. 0. 0.]]\n",
      "(87200, 15)\n",
      "[[0. 0. 0. ... 0. 0. 0.]\n",
      " [0. 0. 0. ... 0. 0. 0.]\n",
      " [0. 0. 0. ... 0. 0. 0.]\n",
      " ...\n",
      " [0. 0. 0. ... 0. 0. 0.]\n",
      " [0. 0. 0. ... 0. 0. 0.]\n",
      " [0. 0. 0. ... 0. 0. 0.]]\n",
      "(21800, 15)\n"
     ]
    }
   ],
   "source": [
    "from keras.utils import to_categorical\n",
    "\n",
    "y_train_class, y_test_class = to_categorical(y_train_class), to_categorical(y_test_class)\n",
    "\n",
    "print(y_train_class)\n",
    "print(y_train_class.shape)\n",
    "\n",
    "print(y_test_class)\n",
    "print(y_test_class.shape)"
   ]
  },
  {
   "cell_type": "code",
   "execution_count": 14,
   "id": "570e57c7-d1f4-40d2-b6f1-536f9ddba3ba",
   "metadata": {},
   "outputs": [],
   "source": [
    "from xgboost import XGBClassifier\n",
    "from sklearn.ensemble import AdaBoostClassifier\n",
    "import seaborn as sns\n",
    "import time\n",
    "from sklearn.metrics import classification_report,confusion_matrix, accuracy_score, roc_auc_score,roc_curve"
   ]
  },
  {
   "cell_type": "code",
   "execution_count": 19,
   "id": "2632edc3-fb86-46e7-974a-04b7cefc7aa4",
   "metadata": {},
   "outputs": [
    {
     "name": "stdout",
     "output_type": "stream",
     "text": [
      "Time 7.624772071838379\n",
      "Accuracy 0.9839908256880734\n",
      "              precision    recall  f1-score   support\n",
      "\n",
      "           0       1.00      1.00      1.00      3056\n",
      "           1       1.00      0.99      1.00       998\n",
      "           2       1.00      1.00      1.00      1543\n",
      "           3       1.00      1.00      1.00      2271\n",
      "           4       1.00      1.00      1.00      1637\n",
      "           5       1.00      0.99      1.00      2025\n",
      "           6       1.00      1.00      1.00      2036\n",
      "           7       1.00      1.00      1.00      2168\n",
      "           8       1.00      1.00      1.00       400\n",
      "           9       1.00      1.00      1.00       388\n",
      "          10       1.00      1.00      1.00      1607\n",
      "          11       1.00      1.00      1.00      1957\n",
      "          12       0.85      0.91      0.88       982\n",
      "          13       0.99      1.00      0.99       375\n",
      "          14       0.71      0.54      0.61       357\n",
      "\n",
      "   micro avg       0.99      0.99      0.99     21800\n",
      "   macro avg       0.97      0.96      0.96     21800\n",
      "weighted avg       0.99      0.99      0.99     21800\n",
      " samples avg       0.99      0.99      0.99     21800\n",
      "\n"
     ]
    }
   ],
   "source": [
    "start = time.time()\n",
    "xgb = XGBClassifier(random_state=42)\n",
    "\n",
    "xgb.fit(x_train,y_train_class)\n",
    "\n",
    "xgbpreds = xgb.predict(x_test)\n",
    "\n",
    "print(\"Time\", time.time()-start)\n",
    "print(\"Accuracy\",accuracy_score(y_test_class,xgbpreds))\n",
    "print(classification_report(y_test_class,xgbpreds))"
   ]
  },
  {
   "cell_type": "code",
   "execution_count": 25,
   "id": "4105ad37-d1b6-42fd-bf39-7b466301bd80",
   "metadata": {},
   "outputs": [
    {
     "name": "stdout",
     "output_type": "stream",
     "text": [
      "Time 32.01297616958618\n",
      "Accuracy 0.34655963302752296\n",
      "                            precision    recall  f1-score   support\n",
      "\n",
      "                    BENIGN       0.18      0.99      0.30      3056\n",
      "                       Bot       0.00      0.00      0.00       998\n",
      "                      DDoS       0.00      0.00      0.00      1543\n",
      "             DoS GoldenEye       0.00      0.00      0.00      2271\n",
      "                  DoS Hulk       0.00      0.00      0.00      1637\n",
      "          DoS Slowhttptest       0.00      0.00      0.00      2025\n",
      "             DoS slowloris       0.00      0.00      0.00      2036\n",
      "               FTP-Patator       0.98      1.00      0.99      2168\n",
      "                Heartbleed       1.00      1.00      1.00       400\n",
      "              Infiltration       0.00      0.00      0.00       388\n",
      "                  PortScan       0.00      0.00      0.00      1607\n",
      "               SSH-Patator       0.99      1.00      1.00      1957\n",
      "  Web Attack � Brute Force       0.00      0.00      0.00       982\n",
      "Web Attack � Sql Injection       0.00      0.00      0.00       375\n",
      "          Web Attack � XSS       0.00      0.00      0.00       357\n",
      "\n",
      "                  accuracy                           0.35     21800\n",
      "                 macro avg       0.21      0.27      0.22     21800\n",
      "              weighted avg       0.23      0.35      0.25     21800\n",
      "\n"
     ]
    }
   ],
   "source": [
    "start = time.time()\n",
    "x_train, x_test, y_train_class, y_test_class = train_test_split(xbalanced, ybalanced, test_size=0.2, random_state=42)\n",
    "\n",
    "y_train_class = np.ravel(y_train_class)\n",
    "adaboost = AdaBoostClassifier(n_estimators=100, random_state=42)\n",
    "# Ensure y_train_class is a 1D array\n",
    "adaboost.fit(x_train,y_train_class)\n",
    "\n",
    "adapreds = adaboost.predict(x_test)\n",
    "\n",
    "print(\"Time\", time.time()-start)\n",
    "print(\"Accuracy\",accuracy_score(y_test_class,adapreds))\n",
    "print(classification_report(y_test_class,adapreds))"
   ]
  },
  {
   "cell_type": "code",
   "execution_count": 34,
   "id": "ce98a5ca-a6a9-4032-a954-a4afd7ab1c16",
   "metadata": {},
   "outputs": [
    {
     "name": "stdout",
     "output_type": "stream",
     "text": [
      "Time: 145.02112889289856\n",
      "Accuracy: 0.9803669724770642\n",
      "Classification Report:\n",
      "                            precision    recall  f1-score   support\n",
      "\n",
      "                    BENIGN       1.00      1.00      1.00      3056\n",
      "                       Bot       1.00      1.00      1.00       998\n",
      "                      DDoS       1.00      1.00      1.00      1543\n",
      "             DoS GoldenEye       1.00      1.00      1.00      2271\n",
      "                  DoS Hulk       1.00      1.00      1.00      1637\n",
      "          DoS Slowhttptest       1.00      0.99      1.00      2025\n",
      "             DoS slowloris       1.00      1.00      1.00      2036\n",
      "               FTP-Patator       1.00      1.00      1.00      2168\n",
      "                Heartbleed       1.00      1.00      1.00       400\n",
      "              Infiltration       1.00      1.00      1.00       388\n",
      "                  PortScan       1.00      1.00      1.00      1607\n",
      "               SSH-Patator       1.00      1.00      1.00      1957\n",
      "  Web Attack � Brute Force       0.76      0.88      0.81       982\n",
      "Web Attack � Sql Injection       1.00      1.00      1.00       375\n",
      "          Web Attack � XSS       0.42      0.24      0.30       357\n",
      "\n",
      "                  accuracy                           0.98     21800\n",
      "                 macro avg       0.94      0.94      0.94     21800\n",
      "              weighted avg       0.98      0.98      0.98     21800\n",
      "\n"
     ]
    }
   ],
   "source": [
    "from sklearn.ensemble import AdaBoostClassifier\n",
    "from sklearn.tree import DecisionTreeClassifier\n",
    "from sklearn.metrics import accuracy_score, classification_report\n",
    "import time\n",
    "\n",
    "# Assuming x_train and y_train_class are your training data\n",
    "# Assuming x_test and y_test_class are your testing data\n",
    "\n",
    "# Create and fit the AdaBoost model with a decision tree as the base estimator\n",
    "start = time.time()\n",
    "base_tree = DecisionTreeClassifier(max_depth=8)  # You can customize the decision tree hyperparameters here\n",
    "adaboost = AdaBoostClassifier(base_estimator=base_tree, n_estimators=100, random_state=42)\n",
    "adaboost.fit(x_train, y_train_class)\n",
    "adapreds = adaboost.predict(x_test)\n",
    "print(\"Time:\", time.time() - start)\n",
    "print(\"Accuracy:\", accuracy_score(y_test_class, adapreds))\n",
    "print(\"Classification Report:\")\n",
    "print(classification_report(y_test_class, adapreds))"
   ]
  },
  {
   "cell_type": "code",
   "execution_count": null,
   "id": "3cf97986-82dd-4337-92d3-981aa073e993",
   "metadata": {},
   "outputs": [],
   "source": []
  }
 ],
 "metadata": {
  "kernelspec": {
   "display_name": "Python 3 (ipykernel)",
   "language": "python",
   "name": "python3"
  },
  "language_info": {
   "codemirror_mode": {
    "name": "ipython",
    "version": 3
   },
   "file_extension": ".py",
   "mimetype": "text/x-python",
   "name": "python",
   "nbconvert_exporter": "python",
   "pygments_lexer": "ipython3",
   "version": "3.11.6"
  }
 },
 "nbformat": 4,
 "nbformat_minor": 5
}
