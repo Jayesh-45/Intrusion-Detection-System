{
 "cells": [
  {
   "cell_type": "code",
   "execution_count": 1,
   "id": "62c42ea2-df90-4894-9f4c-c86825bf202b",
   "metadata": {},
   "outputs": [],
   "source": [
    "import numpy as np\n",
    "import pandas as pd\n",
    "import warnings\n",
    "import matplotlib.pyplot as plt\n",
    "import seaborn as sns\n",
    "import tensorflow as tf\n",
    "from tensorflow.keras import regularizers\n",
    "import xgboost as xgb\n",
    "from sklearn.decomposition import PCA\n",
    "from sklearn import tree\n",
    "from sklearn.naive_bayes import GaussianNB\n",
    "from sklearn.linear_model import LogisticRegression\n",
    "from sklearn.neighbors import KNeighborsClassifier\n",
    "from sklearn.tree import DecisionTreeClassifier\n",
    "from sklearn.preprocessing import RobustScaler\n",
    "from sklearn.ensemble import RandomForestClassifier, RandomForestRegressor\n",
    "from sklearn.model_selection import train_test_split\n",
    "from sklearn import svm\n",
    "from sklearn import metrics\n",
    "pd.set_option('display.max_columns',None)\n",
    "warnings.filterwarnings('ignore')\n",
    "%matplotlib inline "
   ]
  },
  {
   "cell_type": "code",
   "execution_count": 2,
   "id": "814223a7-d5f0-44d2-9fcd-248356118897",
   "metadata": {},
   "outputs": [],
   "source": [
    "xbalanced_file_path = '/Users/jayeshbangar/Desktop/IDS_project/x_balanced.npy'\n",
    "\n",
    "# Load the NumPy array from the file\n",
    "xbalanced = np.load(xbalanced_file_path)\n",
    "ybalanced_file_path = '/Users/jayeshbangar/Desktop/IDS_project/y_balanced.npy'\n",
    "ybalanced = np.load(ybalanced_file_path, allow_pickle=True)"
   ]
  },
  {
   "cell_type": "code",
   "execution_count": 3,
   "id": "4af27dd8-c95d-46f0-9ad4-f9b28dfcccf6",
   "metadata": {},
   "outputs": [
    {
     "name": "stdout",
     "output_type": "stream",
     "text": [
      "===========x_train=============\n",
      "[[2.20000000e+01 1.16719309e+07 2.10000000e+01 ... 0.00000000e+00\n",
      "  0.00000000e+00 0.00000000e+00]\n",
      " [8.00000000e+01 6.30864630e+07 7.00000000e+00 ... 1.22000000e+07\n",
      "  3.20000000e+07 8.01620100e+06]\n",
      " [8.00000000e+01 8.38734060e+07 6.00000000e+00 ... 0.00000000e+00\n",
      "  8.37000000e+07 8.37000000e+07]\n",
      " ...\n",
      " [8.00000000e+01 2.52095494e+06 3.00000000e+00 ... 0.00000000e+00\n",
      "  0.00000000e+00 0.00000000e+00]\n",
      " [5.30000000e+01 3.12770000e+04 2.00000000e+00 ... 0.00000000e+00\n",
      "  0.00000000e+00 0.00000000e+00]\n",
      " [8.08000000e+03 6.78620000e+04 4.00000000e+00 ... 0.00000000e+00\n",
      "  0.00000000e+00 0.00000000e+00]]\n",
      "(87200, 78)\n",
      "===========x_test=============\n",
      "[[4.44000000e+02 1.19299495e+08 2.80466712e+03 ... 0.00000000e+00\n",
      "  0.00000000e+00 0.00000000e+00]\n",
      " [4.15110000e+04 1.04000000e+02 1.00000000e+00 ... 0.00000000e+00\n",
      "  0.00000000e+00 0.00000000e+00]\n",
      " [2.10000000e+01 2.90000000e+02 2.00000000e+00 ... 0.00000000e+00\n",
      "  0.00000000e+00 0.00000000e+00]\n",
      " ...\n",
      " [8.00000000e+01 3.00358128e+06 3.00000000e+00 ... 0.00000000e+00\n",
      "  0.00000000e+00 0.00000000e+00]\n",
      " [8.00000000e+01 6.31527138e+07 7.00000000e+00 ... 1.23000000e+07\n",
      "  3.21000000e+07 8.01591944e+06]\n",
      " [2.20000000e+01 8.00000000e+01 1.00000000e+00 ... 0.00000000e+00\n",
      "  0.00000000e+00 0.00000000e+00]]\n",
      "(21800, 78)\n",
      "===========y_train=============\n",
      "['SSH-Patator' 'DoS Slowhttptest' 'DoS Hulk' ...\n",
      " 'Web Attack � Brute Force' 'BENIGN' 'Bot']\n",
      "(87200,)\n",
      "===========y_test=============\n",
      "['Heartbleed' 'PortScan' 'FTP-Patator' ... 'DoS slowloris'\n",
      " 'DoS Slowhttptest' 'SSH-Patator']\n",
      "(21800,)\n"
     ]
    }
   ],
   "source": [
    "from xgboost import XGBClassifier\n",
    "from sklearn.ensemble import AdaBoostClassifier\n",
    "import seaborn as sns\n",
    "import time\n",
    "from sklearn.metrics import classification_report,confusion_matrix, accuracy_score, roc_auc_score,roc_curve\n",
    "x_train, x_test, y_train, y_test = train_test_split(xbalanced,ybalanced,test_size=0.2,random_state=42)\n",
    "\n",
    "print('===========x_train=============')\n",
    "print(x_train)\n",
    "print(x_train.shape)\n",
    "print('===========x_test=============')\n",
    "print(x_test)\n",
    "print(x_test.shape)\n",
    "print('===========y_train=============')\n",
    "print(y_train)\n",
    "print(y_train.shape)\n",
    "print('===========y_test=============')\n",
    "print(y_test)\n",
    "print(y_test.shape)"
   ]
  },
  {
   "cell_type": "code",
   "execution_count": 4,
   "id": "2b5d269c-9757-4c0c-82f1-fce71b075150",
   "metadata": {},
   "outputs": [
    {
     "name": "stdout",
     "output_type": "stream",
     "text": [
      "['BENIGN' 'Bot' 'DDoS' 'DoS GoldenEye' 'DoS Hulk' 'DoS Slowhttptest'\n",
      " 'DoS slowloris' 'FTP-Patator' 'Heartbleed' 'Infiltration' 'PortScan'\n",
      " 'SSH-Patator' 'Web Attack � Brute Force' 'Web Attack � Sql Injection'\n",
      " 'Web Attack � XSS']\n",
      "15\n",
      "-------------------\n",
      "[0, 1, 2, 3, 4, 5, 6, 7, 8, 9, 10, 11, 12, 13, 14]\n",
      "-------------------\n",
      "{'BENIGN': 0, 'Bot': 1, 'DDoS': 2, 'DoS GoldenEye': 3, 'DoS Hulk': 4, 'DoS Slowhttptest': 5, 'DoS slowloris': 6, 'FTP-Patator': 7, 'Heartbleed': 8, 'Infiltration': 9, 'PortScan': 10, 'SSH-Patator': 11, 'Web Attack � Brute Force': 12, 'Web Attack � Sql Injection': 13, 'Web Attack � XSS': 14}\n",
      "-------------------\n",
      "[ 8 10  7 ...  6  5 11]\n",
      "21800\n"
     ]
    }
   ],
   "source": [
    "labels=np.unique(y_test)\n",
    "print(labels)\n",
    "print(len(labels))\n",
    "print('-------------------')\n",
    "\n",
    "classes = []\n",
    "for i in range(0,len(labels)):\n",
    "    classes.append(i)\n",
    "print(classes)\n",
    "print('-------------------')\n",
    "\n",
    "map=dict(zip(labels,classes))\n",
    "print(map)\n",
    "print('-------------------')\n",
    "\n",
    "\n",
    "y_test_class=[]\n",
    "\n",
    "for i in range(0, len(y_test)):\n",
    "    y_test_class.append(map[y_test[i]])\n",
    "    \n",
    "y_test_class=np.asarray(y_test_class)\n",
    "\n",
    "print(y_test_class)\n",
    "print(len(y_test_class))"
   ]
  },
  {
   "cell_type": "code",
   "execution_count": 5,
   "id": "273c9de3-4f5c-41d4-9327-a99716e9e20f",
   "metadata": {},
   "outputs": [
    {
     "name": "stdout",
     "output_type": "stream",
     "text": [
      "['BENIGN' 'Bot' 'DDoS' 'DoS GoldenEye' 'DoS Hulk' 'DoS Slowhttptest'\n",
      " 'DoS slowloris' 'FTP-Patator' 'Heartbleed' 'Infiltration' 'PortScan'\n",
      " 'SSH-Patator' 'Web Attack � Brute Force' 'Web Attack � Sql Injection'\n",
      " 'Web Attack � XSS']\n",
      "15\n",
      "-------------------\n",
      "[0, 1, 2, 3, 4, 5, 6, 7, 8, 9, 10, 11, 12, 13, 14]\n",
      "-------------------\n",
      "{'BENIGN': 0, 'Bot': 1, 'DDoS': 2, 'DoS GoldenEye': 3, 'DoS Hulk': 4, 'DoS Slowhttptest': 5, 'DoS slowloris': 6, 'FTP-Patator': 7, 'Heartbleed': 8, 'Infiltration': 9, 'PortScan': 10, 'SSH-Patator': 11, 'Web Attack � Brute Force': 12, 'Web Attack � Sql Injection': 13, 'Web Attack � XSS': 14}\n",
      "-------------------\n",
      "[11  5  4 ... 12  0  1]\n",
      "87200\n"
     ]
    }
   ],
   "source": [
    "\n",
    "labels=np.unique(y_train)\n",
    "print(labels)\n",
    "print(len(labels))\n",
    "print('-------------------')\n",
    "\n",
    "classes = []\n",
    "for i in range(0,len(labels)):\n",
    "    classes.append(i)\n",
    "print(classes)\n",
    "print('-------------------')\n",
    "\n",
    "map=dict(zip(labels,classes))\n",
    "print(map)\n",
    "print('-------------------')\n",
    "\n",
    "\n",
    "y_train_class=[]\n",
    "\n",
    "for i in range(0, len(y_train)):\n",
    "    y_train_class.append(map[y_train[i]])\n",
    "    \n",
    "y_train_class=np.asarray(y_train_class)\n",
    "\n",
    "print(y_train_class)\n",
    "print(len(y_train_class))"
   ]
  },
  {
   "cell_type": "code",
   "execution_count": 6,
   "id": "cd55f9ce-b76a-46c4-b20e-a3261c87052b",
   "metadata": {},
   "outputs": [
    {
     "name": "stdout",
     "output_type": "stream",
     "text": [
      "[[0. 0. 0. ... 0. 0. 0.]\n",
      " [0. 0. 0. ... 0. 0. 0.]\n",
      " [0. 0. 0. ... 0. 0. 0.]\n",
      " ...\n",
      " [0. 0. 0. ... 1. 0. 0.]\n",
      " [1. 0. 0. ... 0. 0. 0.]\n",
      " [0. 1. 0. ... 0. 0. 0.]]\n",
      "(87200, 15)\n",
      "[[0. 0. 0. ... 0. 0. 0.]\n",
      " [0. 0. 0. ... 0. 0. 0.]\n",
      " [0. 0. 0. ... 0. 0. 0.]\n",
      " ...\n",
      " [0. 0. 0. ... 0. 0. 0.]\n",
      " [0. 0. 0. ... 0. 0. 0.]\n",
      " [0. 0. 0. ... 0. 0. 0.]]\n",
      "(21800, 15)\n"
     ]
    }
   ],
   "source": [
    "from keras.utils import to_categorical\n",
    "\n",
    "y_train_class, y_test_class = to_categorical(y_train_class), to_categorical(y_test_class)\n",
    "\n",
    "print(y_train_class)\n",
    "print(y_train_class.shape)\n",
    "\n",
    "print(y_test_class)\n",
    "print(y_test_class.shape)"
   ]
  },
  {
   "cell_type": "code",
   "execution_count": 7,
   "id": "dfc48bc1-bbdb-4f6c-abbe-fa3ec9ba3824",
   "metadata": {},
   "outputs": [],
   "source": [
    "from xgboost import XGBClassifier\n",
    "from sklearn.ensemble import AdaBoostClassifier\n",
    "import seaborn as sns\n",
    "import time\n",
    "from sklearn.metrics import classification_report,confusion_matrix, accuracy_score, roc_auc_score,roc_curve"
   ]
  },
  {
   "cell_type": "code",
   "execution_count": 8,
   "id": "3cbd2583-50a9-4828-aedf-565fe99e1a12",
   "metadata": {},
   "outputs": [
    {
     "name": "stdout",
     "output_type": "stream",
     "text": [
      "Time 8.07565188407898\n",
      "Accuracy 0.9839908256880734\n",
      "              precision    recall  f1-score   support\n",
      "\n",
      "           0       1.00      1.00      1.00      3056\n",
      "           1       1.00      0.99      1.00       998\n",
      "           2       1.00      1.00      1.00      1543\n",
      "           3       1.00      1.00      1.00      2271\n",
      "           4       1.00      1.00      1.00      1637\n",
      "           5       1.00      0.99      1.00      2025\n",
      "           6       1.00      1.00      1.00      2036\n",
      "           7       1.00      1.00      1.00      2168\n",
      "           8       1.00      1.00      1.00       400\n",
      "           9       1.00      1.00      1.00       388\n",
      "          10       1.00      1.00      1.00      1607\n",
      "          11       1.00      1.00      1.00      1957\n",
      "          12       0.85      0.91      0.88       982\n",
      "          13       0.99      1.00      0.99       375\n",
      "          14       0.71      0.54      0.61       357\n",
      "\n",
      "   micro avg       0.99      0.99      0.99     21800\n",
      "   macro avg       0.97      0.96      0.96     21800\n",
      "weighted avg       0.99      0.99      0.99     21800\n",
      " samples avg       0.99      0.99      0.99     21800\n",
      "\n"
     ]
    }
   ],
   "source": [
    "start = time.time()\n",
    "xgb = XGBClassifier(random_state=42)\n",
    "\n",
    "xgb.fit(x_train,y_train_class)\n",
    "\n",
    "xgbpreds = xgb.predict(x_test)\n",
    "\n",
    "print(\"Time\", time.time()-start)\n",
    "print(\"Accuracy\",accuracy_score(y_test_class,xgbpreds))\n",
    "print(classification_report(y_test_class,xgbpreds))"
   ]
  },
  {
   "cell_type": "code",
   "execution_count": null,
   "id": "25af7e2a-a7af-4d03-b15a-7bd1adea026c",
   "metadata": {},
   "outputs": [],
   "source": []
  }
 ],
 "metadata": {
  "kernelspec": {
   "display_name": "Python 3 (ipykernel)",
   "language": "python",
   "name": "python3"
  },
  "language_info": {
   "codemirror_mode": {
    "name": "ipython",
    "version": 3
   },
   "file_extension": ".py",
   "mimetype": "text/x-python",
   "name": "python",
   "nbconvert_exporter": "python",
   "pygments_lexer": "ipython3",
   "version": "3.11.6"
  }
 },
 "nbformat": 4,
 "nbformat_minor": 5
}
